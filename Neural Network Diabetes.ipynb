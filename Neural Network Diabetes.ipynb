{
 "cells": [
  {
   "cell_type": "code",
   "execution_count": 48,
   "metadata": {},
   "outputs": [
    {
     "name": "stdout",
     "output_type": "stream",
     "text": [
      "[[8.00e+00 1.88e+02 7.80e+01 ... 4.79e+01 1.37e-01 4.30e+01]\n",
      " [7.00e+00 1.52e+02 8.80e+01 ... 5.00e+01 3.37e-01 3.60e+01]\n",
      " [2.00e+00 9.90e+01 5.20e+01 ... 2.46e+01 6.37e-01 2.10e+01]\n",
      " ...\n",
      " [5.00e+00 1.21e+02 7.20e+01 ... 2.62e+01 2.45e-01 3.00e+01]\n",
      " [1.00e+00 1.26e+02 6.00e+01 ... 3.01e+01 3.49e-01 4.70e+01]\n",
      " [1.00e+00 9.30e+01 7.00e+01 ... 3.04e+01 3.15e-01 2.30e+01]]\n"
     ]
    }
   ],
   "source": [
    "import pandas as pd\n",
    "import numpy as np\n",
    "\n",
    "df = pd.read_csv('./diabetes_latih.csv')\n",
    "\n",
    "X_train = df.values\n",
    "X_train = np.delete(X_train,8,axis=1)\n",
    "\n",
    "y_train = df['Outcome'].values\n",
    "\n",
    "df = pd.read_csv('./diabetes_uji.csv')\n",
    "\n",
    "X_test = df.values\n",
    "X_test = np.delete(X_test,8,axis=1)\n",
    "\n",
    "y_test = df['Outcome'].values\n",
    "\n",
    "#df.head()\n",
    "#print(X_train)"
   ]
  },
  {
   "cell_type": "code",
   "execution_count": 49,
   "metadata": {},
   "outputs": [
    {
     "name": "stdout",
     "output_type": "stream",
     "text": [
      "[[0.47058824 0.94472362 0.68421053 ... 0.71385991 0.02519214 0.36666667]\n",
      " [0.41176471 0.7638191  0.77192982 ... 0.74515648 0.11058924 0.25      ]\n",
      " [0.11764706 0.49748744 0.45614035 ... 0.36661699 0.23868488 0.        ]\n",
      " ...\n",
      " [0.29411765 0.6080402  0.63157895 ... 0.390462   0.07130658 0.15      ]\n",
      " [0.05882353 0.63316583 0.52631579 ... 0.4485842  0.11571307 0.43333333]\n",
      " [0.05882353 0.46733668 0.61403509 ... 0.45305514 0.10119556 0.03333333]]\n"
     ]
    }
   ],
   "source": [
    "from sklearn.preprocessing import MinMaxScaler\n",
    "\n",
    "X_train = MinMaxScaler().fit_transform(X_train)\n",
    "X_test = MinMaxScaler().fit_transform(X_test)\n",
    "\n",
    "print(X_train)"
   ]
  },
  {
   "cell_type": "code",
   "execution_count": 44,
   "metadata": {},
   "outputs": [
    {
     "data": {
      "text/plain": [
       "MLPClassifier(activation='relu', alpha=0.0001, batch_size='auto', beta_1=0.9,\n",
       "              beta_2=0.999, early_stopping=False, epsilon=1e-08,\n",
       "              hidden_layer_sizes=3, learning_rate='constant',\n",
       "              learning_rate_init=0.1, max_iter=100, momentum=0.9,\n",
       "              n_iter_no_change=10, nesterovs_momentum=True, power_t=0.5,\n",
       "              random_state=None, shuffle=True, solver='adam', tol=0.0001,\n",
       "              validation_fraction=0.1, verbose=False, warm_start=False)"
      ]
     },
     "execution_count": 44,
     "metadata": {},
     "output_type": "execute_result"
    }
   ],
   "source": [
    "from sklearn.neural_network import MLPClassifier\n",
    "\n",
    "clf = MLPClassifier(hidden_layer_sizes=3,learning_rate_init=0.1,max_iter=100)\n",
    "\n",
    "clf.fit(X_train, y_train)"
   ]
  },
  {
   "cell_type": "code",
   "execution_count": 45,
   "metadata": {},
   "outputs": [],
   "source": [
    "y_pred = clf.predict(X_test)"
   ]
  },
  {
   "cell_type": "code",
   "execution_count": 46,
   "metadata": {},
   "outputs": [
    {
     "data": {
      "text/plain": [
       "0.753"
      ]
     },
     "execution_count": 46,
     "metadata": {},
     "output_type": "execute_result"
    }
   ],
   "source": [
    "from sklearn.metrics import accuracy_score\n",
    "\n",
    "round(accuracy_score(y_test,y_pred),3)"
   ]
  },
  {
   "cell_type": "code",
   "execution_count": 11,
   "metadata": {},
   "outputs": [
    {
     "name": "stdout",
     "output_type": "stream",
     "text": [
      "<class 'pandas.core.frame.DataFrame'>\n",
      "RangeIndex: 614 entries, 0 to 613\n",
      "Data columns (total 9 columns):\n",
      "Pregnancies                 614 non-null int64\n",
      "Glucose                     614 non-null int64\n",
      "BloodPressure               614 non-null int64\n",
      "SkinThickness               614 non-null int64\n",
      "Insulin                     614 non-null int64\n",
      "BMI                         614 non-null float64\n",
      "DiabetesPedigreeFunction    614 non-null float64\n",
      "Age                         614 non-null int64\n",
      "Outcome                     614 non-null int64\n",
      "dtypes: float64(2), int64(7)\n",
      "memory usage: 43.3 KB\n"
     ]
    }
   ],
   "source": [
    "df.info()"
   ]
  }
 ],
 "metadata": {
  "kernelspec": {
   "display_name": "Python 3",
   "language": "python",
   "name": "python3"
  },
  "language_info": {
   "codemirror_mode": {
    "name": "ipython",
    "version": 3
   },
   "file_extension": ".py",
   "mimetype": "text/x-python",
   "name": "python",
   "nbconvert_exporter": "python",
   "pygments_lexer": "ipython3",
   "version": "3.7.5"
  }
 },
 "nbformat": 4,
 "nbformat_minor": 2
}
